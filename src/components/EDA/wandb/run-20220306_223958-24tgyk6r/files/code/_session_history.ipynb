{
 "cells": [
  {
   "cell_type": "code",
   "execution_count": 1,
   "id": "cd84ae9d",
   "metadata": {},
   "outputs": [],
   "source": [
    "import os\n",
    "import json\n",
    "import boto3\n",
    "import wandb\n",
    "import pandas as \n",
    "from collections import defaultdict"
   ]
  },
  {
   "cell_type": "code",
   "execution_count": 2,
   "id": "d0a7664f",
   "metadata": {},
   "outputs": [],
   "source": [
    "# Creating a run and using the downloaded data\n",
    "run = wandb.init(project=\"data-engineering\", group=\"EDA\", save_code=True)\n",
    "data = wandb.use_artifact(\"raw_data:latest\").download()"
   ]
  },
  {
   "cell_type": "code",
   "execution_count": 3,
   "id": "7aa24e18",
   "metadata": {},
   "outputs": [],
   "source": [
    "import os\n",
    "import json\n",
    "import boto3\n",
    "import wandb\n",
    "import pandas as \n",
    "from collections import defaultdict"
   ]
  },
  {
   "cell_type": "code",
   "execution_count": 4,
   "id": "43d364e4",
   "metadata": {},
   "outputs": [],
   "source": [
    "# Creating a run and using the downloaded data\n",
    "run = wandb.init(project=\"data-engineering\", group=\"EDA\", save_code=True)\n",
    "data = wandb.use_artifact(\"raw_data:latest\").download()"
   ]
  },
  {
   "cell_type": "code",
   "execution_count": 5,
   "id": "6d2097a7",
   "metadata": {},
   "outputs": [],
   "source": [
    "import os\n",
    "import json\n",
    "import boto3\n",
    "import wandb\n",
    "import pandas as pd\n",
    "from collections import defaultdict"
   ]
  },
  {
   "cell_type": "code",
   "execution_count": 6,
   "id": "cc671ca6",
   "metadata": {},
   "outputs": [
    {
     "data": {
      "text/html": [
       "\n",
       "                Tracking run with wandb version 0.10.31<br/>\n",
       "                Syncing run <strong style=\"color:#cdcd00\">worthy-donkey-22</strong> to <a href=\"https://wandb.ai\" target=\"_blank\">Weights & Biases</a> <a href=\"https://docs.wandb.com/integrations/jupyter.html\" target=\"_blank\">(Documentation)</a>.<br/>\n",
       "                Project page: <a href=\"https://wandb.ai/arkaan27/data-engineering\" target=\"_blank\">https://wandb.ai/arkaan27/data-engineering</a><br/>\n",
       "                Run page: <a href=\"https://wandb.ai/arkaan27/data-engineering/runs/24tgyk6r\" target=\"_blank\">https://wandb.ai/arkaan27/data-engineering/runs/24tgyk6r</a><br/>\n",
       "                Run data is saved locally in <code>/mnt/d/data-engineering-pipeline/src/components/EDA/wandb/run-20220306_223958-24tgyk6r</code><br/><br/>\n",
       "            "
      ],
      "text/plain": [
       "<IPython.core.display.HTML object>"
      ]
     },
     "metadata": {},
     "output_type": "display_data"
    }
   ],
   "source": [
    "# Creating a run and using the downloaded data\n",
    "run = wandb.init(project=\"data-engineering\", group=\"EDA\", save_code=True)\n",
    "data = wandb.use_artifact(\"raw_data:latest\").download()"
   ]
  },
  {
   "cell_type": "code",
   "execution_count": 7,
   "id": "83da0ad2",
   "metadata": {},
   "outputs": [],
   "source": [
    "# Creating output dir for the processed data\n",
    "output_dir= \"processed_data\"\n",
    "if not os.path.exists(output_dir):\n",
    "    os.mkdir(output_dir)\n",
    "\n",
    "# Looping over all the files in the directory\n",
    "for root,dirs,files in os.walk(data):\n",
    "    for file in files:\n",
    "        # Opening each file seperately\n",
    "        with open(os.path.join(data,file), mode='r') as f:\n",
    "            extracted_data = json.load(f)\n",
    "            entries = extracted_data[\"entry\"]\n",
    "            \n",
    "            # Creating set & dictionary for each file\n",
    "            resource_types = set()\n",
    "            entry_resources = defaultdict(list)\n",
    "        \n",
    "            # Extracting data to dictionary based on resource type for each file\n",
    "            for resource in entries:\n",
    "                resource_type = resource[\"resource\"][\"resourceType\"]\n",
    "                resource_types.add(resource_type)\n",
    "                resource_file_path = output_dir +\"/\"+ f\"{resource_type}.json\"\n",
    "                entry_resources[resource_file_path].append(resource)\n",
    "            \n",
    "        \n",
    "            for resource_file_path, resources in entry_resources.items():\n",
    "                if os.path.exists(resource_file_path):\n",
    "                    #Getting existing contents of each resource of each file\n",
    "                    with open(resource_file_path,mode='r') as i:\n",
    "                        contents = json.load(i)\n",
    "                \n",
    "                    contents.extend(resources)\n",
    "                else:\n",
    "                    contents = resources\n",
    "                \n",
    "                # save it to disk\n",
    "                with open(resource_file_path,mode=\"w\") as j:\n",
    "                    json.dump(contents, j)  "
   ]
  },
  {
   "cell_type": "code",
   "execution_count": 8,
   "id": "c909f4aa",
   "metadata": {},
   "outputs": [],
   "source": [
    "# Finishing the run\n",
    "run.finish()"
   ]
  }
 ],
 "metadata": {
  "kernelspec": {
   "display_name": "Python 3",
   "language": "python",
   "name": "python3"
  },
  "language_info": {
   "codemirror_mode": {
    "name": "ipython",
    "version": 3
   },
   "file_extension": ".py",
   "mimetype": "text/x-python",
   "name": "python",
   "nbconvert_exporter": "python",
   "pygments_lexer": "ipython3",
   "version": "3.9.10"
  }
 },
 "nbformat": 4,
 "nbformat_minor": 5
}
