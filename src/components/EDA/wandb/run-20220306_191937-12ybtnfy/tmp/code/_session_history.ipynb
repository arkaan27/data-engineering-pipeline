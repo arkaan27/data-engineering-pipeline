{
 "cells": [
  {
   "cell_type": "code",
   "execution_count": 1,
   "id": "c2d18ab7",
   "metadata": {},
   "outputs": [],
   "source": [
    "import boto3\n",
    "import wandb"
   ]
  },
  {
   "cell_type": "code",
   "execution_count": 2,
   "id": "9bf2df58",
   "metadata": {},
   "outputs": [
    {
     "data": {
      "text/html": [
       "\n",
       "                Tracking run with wandb version 0.10.31<br/>\n",
       "                Syncing run <strong style=\"color:#cdcd00\">eternal-leaf-16</strong> to <a href=\"https://wandb.ai\" target=\"_blank\">Weights & Biases</a> <a href=\"https://docs.wandb.com/integrations/jupyter.html\" target=\"_blank\">(Documentation)</a>.<br/>\n",
       "                Project page: <a href=\"https://wandb.ai/arkaan27/data-engineering\" target=\"_blank\">https://wandb.ai/arkaan27/data-engineering</a><br/>\n",
       "                Run page: <a href=\"https://wandb.ai/arkaan27/data-engineering/runs/12ybtnfy\" target=\"_blank\">https://wandb.ai/arkaan27/data-engineering/runs/12ybtnfy</a><br/>\n",
       "                Run data is saved locally in <code>/mnt/d/data-engineering-pipeline/src/components/EDA/wandb/run-20220306_191937-12ybtnfy</code><br/><br/>\n",
       "            "
      ],
      "text/plain": [
       "<IPython.core.display.HTML object>"
      ]
     },
     "metadata": {},
     "output_type": "display_data"
    }
   ],
   "source": [
    "# Creating a run and using the downloaded data\n",
    "run = wandb.init(project=\"data-engineering\", group=\"EDA\", save_code=True)\n",
    "local_path = wandb.use_artifact(\"upload_data:latest\").file()"
   ]
  },
  {
   "cell_type": "code",
   "execution_count": 3,
   "id": "3238d3b2",
   "metadata": {},
   "outputs": [],
   "source": [
    "# Creating a run and using the downloaded data\n",
    "run = wandb.init(project=\"data-engineering\", group=\"EDA\", save_code=True)\n",
    "local_path = wandb.use_artifact(\"raw_data:latest\").file()"
   ]
  }
 ],
 "metadata": {
  "kernelspec": {
   "display_name": "Python 3",
   "language": "python",
   "name": "python3"
  },
  "language_info": {
   "codemirror_mode": {
    "name": "ipython",
    "version": 3
   },
   "file_extension": ".py",
   "mimetype": "text/x-python",
   "name": "python",
   "nbconvert_exporter": "python",
   "pygments_lexer": "ipython3",
   "version": "3.9.10"
  }
 },
 "nbformat": 4,
 "nbformat_minor": 5
}
