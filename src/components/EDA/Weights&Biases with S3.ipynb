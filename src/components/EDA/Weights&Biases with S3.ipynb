{
 "cells": [
  {
   "cell_type": "code",
   "execution_count": 126,
   "id": "d3a42026",
   "metadata": {},
   "outputs": [],
   "source": [
    "import os\n",
    "import json\n",
    "import boto3\n",
    "import wandb\n",
    "import pandas as \n",
    "from collections import defaultdict"
   ]
  },
  {
   "cell_type": "code",
   "execution_count": 127,
   "id": "97cfc465",
   "metadata": {},
   "outputs": [
    {
     "data": {
      "text/html": [
       "Finishing last run (ID:2wxclaai) before initializing another..."
      ],
      "text/plain": [
       "<IPython.core.display.HTML object>"
      ]
     },
     "metadata": {},
     "output_type": "display_data"
    },
    {
     "data": {
      "text/html": [
       "<br/>Waiting for W&B process to finish, PID 6503<br/>Program ended successfully."
      ],
      "text/plain": [
       "<IPython.core.display.HTML object>"
      ]
     },
     "metadata": {},
     "output_type": "display_data"
    },
    {
     "data": {
      "application/vnd.jupyter.widget-view+json": {
       "model_id": "",
       "version_major": 2,
       "version_minor": 0
      },
      "text/plain": [
       "VBox(children=(Label(value=' 31.83MB of 31.83MB uploaded (1.44MB deduped)\\r'), FloatProgress(value=1.0, max=1.…"
      ]
     },
     "metadata": {},
     "output_type": "display_data"
    },
    {
     "data": {
      "text/html": [
       "Find user logs for this run at: <code>/mnt/d/data-engineering-pipeline/src/components/EDA/wandb/run-20220306_192344-2wxclaai/logs/debug.log</code>"
      ],
      "text/plain": [
       "<IPython.core.display.HTML object>"
      ]
     },
     "metadata": {},
     "output_type": "display_data"
    },
    {
     "data": {
      "text/html": [
       "Find internal logs for this run at: <code>/mnt/d/data-engineering-pipeline/src/components/EDA/wandb/run-20220306_192344-2wxclaai/logs/debug-internal.log</code>"
      ],
      "text/plain": [
       "<IPython.core.display.HTML object>"
      ]
     },
     "metadata": {},
     "output_type": "display_data"
    },
    {
     "data": {
      "text/html": [
       "Synced 7 W&B file(s), 0 media file(s), 47 artifact file(s) and 1 other file(s)"
      ],
      "text/plain": [
       "<IPython.core.display.HTML object>"
      ]
     },
     "metadata": {},
     "output_type": "display_data"
    },
    {
     "data": {
      "text/html": [
       "\n",
       "                    <br/>Synced <strong style=\"color:#cdcd00\">crimson-bird-18</strong>: <a href=\"https://wandb.ai/arkaan27/data-engineering/runs/2wxclaai\" target=\"_blank\">https://wandb.ai/arkaan27/data-engineering/runs/2wxclaai</a><br/>\n",
       "                "
      ],
      "text/plain": [
       "<IPython.core.display.HTML object>"
      ]
     },
     "metadata": {},
     "output_type": "display_data"
    },
    {
     "data": {
      "text/html": [
       "...Successfully finished last run (ID:2wxclaai). Initializing new run:<br/><br/>"
      ],
      "text/plain": [
       "<IPython.core.display.HTML object>"
      ]
     },
     "metadata": {},
     "output_type": "display_data"
    },
    {
     "name": "stderr",
     "output_type": "stream",
     "text": [
      "\u001b[34m\u001b[1mwandb\u001b[0m: wandb version 0.12.11 is available!  To upgrade, please run:\n",
      "\u001b[34m\u001b[1mwandb\u001b[0m:  $ pip install wandb --upgrade\n"
     ]
    },
    {
     "data": {
      "text/html": [
       "\n",
       "                Tracking run with wandb version 0.10.31<br/>\n",
       "                Syncing run <strong style=\"color:#cdcd00\">different-puddle-19</strong> to <a href=\"https://wandb.ai\" target=\"_blank\">Weights & Biases</a> <a href=\"https://docs.wandb.com/integrations/jupyter.html\" target=\"_blank\">(Documentation)</a>.<br/>\n",
       "                Project page: <a href=\"https://wandb.ai/arkaan27/data-engineering\" target=\"_blank\">https://wandb.ai/arkaan27/data-engineering</a><br/>\n",
       "                Run page: <a href=\"https://wandb.ai/arkaan27/data-engineering/runs/3rft4cmr\" target=\"_blank\">https://wandb.ai/arkaan27/data-engineering/runs/3rft4cmr</a><br/>\n",
       "                Run data is saved locally in <code>/mnt/d/data-engineering-pipeline/src/components/EDA/wandb/run-20220306_214527-3rft4cmr</code><br/><br/>\n",
       "            "
      ],
      "text/plain": [
       "<IPython.core.display.HTML object>"
      ]
     },
     "metadata": {},
     "output_type": "display_data"
    },
    {
     "name": "stderr",
     "output_type": "stream",
     "text": [
      "\u001b[34m\u001b[1mwandb\u001b[0m: Downloading large artifact raw_data:latest, 170.82MB. 79 files... Done. 0:0:0\n"
     ]
    }
   ],
   "source": [
    "# Creating a run and using the downloaded data\n",
    "run = wandb.init(project=\"data-engineering\", group=\"EDA\", save_code=True)\n",
    "data = wandb.use_artifact(\"raw_data:latest\").download()"
   ]
  },
  {
   "cell_type": "code",
   "execution_count": 143,
   "id": "2de5d31c",
   "metadata": {
    "scrolled": false
   },
   "outputs": [],
   "source": [
    "# Creating output dir for the processed data\n",
    "output_dir= \"processed_data\"\n",
    "if not os.path.exists(output_dir):\n",
    "    os.mkdir(output_dir)\n",
    "\n",
    "# Looping over all the files in the directory\n",
    "for root,dirs,files in os.walk(data):\n",
    "    for file in files:\n",
    "        # Opening each file seperately\n",
    "        with open(os.path.join(data,file), mode='r') as f:\n",
    "            extracted_data = json.load(f)\n",
    "            entries = extracted_data[\"entry\"]\n",
    "            \n",
    "            # Creating set & dictionary for each file\n",
    "            resource_types = set()\n",
    "            entry_resources = defaultdict(list)\n",
    "        \n",
    "            # Extracting data to dictionary based on resource type for each file\n",
    "            for resource in entries:\n",
    "                resource_type = resource[\"resource\"][\"resourceType\"]\n",
    "                resource_types.add(resource_type)\n",
    "                resource_file_path = output_dir +\"/\"+ f\"{resource_type}.json\"\n",
    "                entry_resources[resource_file_path].append(resource)\n",
    "            \n",
    "        \n",
    "            for resource_file_path, resources in entry_resources.items():\n",
    "                if os.path.exists(resource_file_path):\n",
    "                    #Getting existing records of each resource of each file\n",
    "                    with open(resource_file_path,mode='r') as i:\n",
    "                        contents = json.load(i)\n",
    "                \n",
    "                    contents.extend(resources)\n",
    "                else:\n",
    "                    contents = resources\n",
    "                \n",
    "                # save it to disk\n",
    "                with open(resource_file_path,mode=\"w\") as j:\n",
    "                    json.dump(contents, j)  "
   ]
  },
  {
   "cell_type": "code",
   "execution_count": 144,
   "id": "26d2756d",
   "metadata": {},
   "outputs": [
    {
     "data": {
      "text/html": [
       "<br/>Waiting for W&B process to finish, PID 6995<br/>Program ended successfully."
      ],
      "text/plain": [
       "<IPython.core.display.HTML object>"
      ]
     },
     "metadata": {},
     "output_type": "display_data"
    },
    {
     "data": {
      "application/vnd.jupyter.widget-view+json": {
       "model_id": "",
       "version_major": 2,
       "version_minor": 0
      },
      "text/plain": [
       "VBox(children=(Label(value=' 0.00MB of 0.00MB uploaded (0.00MB deduped)\\r'), FloatProgress(value=1.0, max=1.0)…"
      ]
     },
     "metadata": {},
     "output_type": "display_data"
    },
    {
     "data": {
      "text/html": [
       "Find user logs for this run at: <code>/mnt/d/data-engineering-pipeline/src/components/EDA/wandb/run-20220306_214527-3rft4cmr/logs/debug.log</code>"
      ],
      "text/plain": [
       "<IPython.core.display.HTML object>"
      ]
     },
     "metadata": {},
     "output_type": "display_data"
    },
    {
     "data": {
      "text/html": [
       "Find internal logs for this run at: <code>/mnt/d/data-engineering-pipeline/src/components/EDA/wandb/run-20220306_214527-3rft4cmr/logs/debug-internal.log</code>"
      ],
      "text/plain": [
       "<IPython.core.display.HTML object>"
      ]
     },
     "metadata": {},
     "output_type": "display_data"
    },
    {
     "data": {
      "text/html": [
       "Synced 7 W&B file(s), 0 media file(s), 0 artifact file(s) and 0 other file(s)"
      ],
      "text/plain": [
       "<IPython.core.display.HTML object>"
      ]
     },
     "metadata": {},
     "output_type": "display_data"
    },
    {
     "data": {
      "text/html": [
       "\n",
       "                    <br/>Synced <strong style=\"color:#cdcd00\">different-puddle-19</strong>: <a href=\"https://wandb.ai/arkaan27/data-engineering/runs/3rft4cmr\" target=\"_blank\">https://wandb.ai/arkaan27/data-engineering/runs/3rft4cmr</a><br/>\n",
       "                "
      ],
      "text/plain": [
       "<IPython.core.display.HTML object>"
      ]
     },
     "metadata": {},
     "output_type": "display_data"
    }
   ],
   "source": [
    "# Finishing the run\n",
    "run.finish()"
   ]
  },
  {
   "cell_type": "code",
   "execution_count": null,
   "id": "b6e4e33a",
   "metadata": {},
   "outputs": [],
   "source": []
  }
 ],
 "metadata": {
  "kernelspec": {
   "display_name": "Python 3 (ipykernel)",
   "language": "python",
   "name": "python3"
  },
  "language_info": {
   "codemirror_mode": {
    "name": "ipython",
    "version": 3
   },
   "file_extension": ".py",
   "mimetype": "text/x-python",
   "name": "python",
   "nbconvert_exporter": "python",
   "pygments_lexer": "ipython3",
   "version": "3.9.10"
  }
 },
 "nbformat": 4,
 "nbformat_minor": 5
}
